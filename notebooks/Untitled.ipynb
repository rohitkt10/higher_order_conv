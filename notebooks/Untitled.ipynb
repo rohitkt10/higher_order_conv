{
 "cells": [
  {
   "cell_type": "code",
   "execution_count": 5,
   "metadata": {},
   "outputs": [
    {
     "name": "stdout",
     "output_type": "stream",
     "text": [
      "The autoreload extension is already loaded. To reload it, use:\n",
      "  %reload_ext autoreload\n"
     ]
    }
   ],
   "source": [
    "import os, h5py, pandas as pd, sys\n",
    "import numpy as np\n",
    "srcpath = os.path.join(os.getcwd(), '..')\n",
    "sys.path.append(srcpath)\n",
    "import tensorflow as tf\n",
    "from tensorflow import keras as tfk\n",
    "from tfomics import tfomics\n",
    "from tfomics.tfomics import moana, impress\n",
    "import logomaker\n",
    "import inspect\n",
    "\n",
    "from paramiko import SSHClient\n",
    "from scp import SCPClient\n",
    "\n",
    "#from pairwise_conv_1d import PairwiseConv1D, PairwiseFromStdConv1D\n",
    "from ho_conv import HigherOrderConv1D\n",
    "#from nearest_neighbor_conv_1d import NearestNeighborConv1D, NearestNeighborFromStdConv1D\n",
    "from ho_regularizer import HigherOrderKernelRegularizer\n",
    "\n",
    "import matplotlib as mpl\n",
    "import matplotlib.pyplot as plt\n",
    "import seaborn as sns\n",
    "sns.set()\n",
    "%matplotlib inline\n",
    "%load_ext autoreload\n",
    "%autoreload 2"
   ]
  },
  {
   "cell_type": "code",
   "execution_count": 4,
   "metadata": {},
   "outputs": [],
   "source": [
    "class PairwiseConv1D(HigherOrderConv1D):\n",
    "    \"\"\"\n",
    "    Pairwise convolution on 1D signals. \n",
    "    \"\"\"\n",
    "    def build(self, input_shape):\n",
    "        A = input_shape[-1]\n",
    "        P = self.kernel_size[0]\n",
    "        C = self.filters\n",
    "        flat_size = A*P\n",
    "        if isinstance(self.kernel_regularizer, HigherOrderKernelRegularizer):\n",
    "            diag_regularizer=self.kernel_regularizer.diag_regularizer\n",
    "            offdiag_regularizer=self.kernel_regularizer.offdiag_regularizer\n",
    "        else:\n",
    "            diag_regularizer=self.kernel_regularizer \n",
    "            offdiag_regularizer=self.kernel_regularizer\n",
    "        \n",
    "        # set up the diagonal kernel \n",
    "        diag_shape = [flat_size, C]\n",
    "        self.diag_kernel = self.add_weight(\n",
    "                                    name=\"diag_kernel\",\n",
    "                                    shape=diag_shape,\n",
    "                                    regularizer=diag_regularizer,\n",
    "                                    initializer=self.kernel_initializer, \n",
    "                                    constraint=self.kernel_constraint,\n",
    "                                    trainable=True, \n",
    "                                    dtype=self.dtype\n",
    "                                        )\n",
    "        \n",
    "        # set up the offdiagonal kernel \n",
    "        num_rows = P - 1 \n",
    "        block_size = A*A\n",
    "        num_blocks = int(0.5 * num_rows *(num_rows+1))\n",
    "        offdiag_shape = [num_blocks*block_size, C]\n",
    "        self.offdiag_kernel = self.add_weight(\n",
    "                                        name=\"offdiag_kernel\", \n",
    "                                        shape=offdiag_shape,\n",
    "                                        regularizer=offdiag_regularizer,\n",
    "                                        initializer=self.kernel_initializer,\n",
    "                                        constraint=self.kernel_constraint,\n",
    "                                        trainable=True,\n",
    "                                        dtype=self.dtype\n",
    "                                        )\n",
    "        \n",
    "        # set up the bias \n",
    "        if self.use_bias:\n",
    "            self.bias = self.add_weight(\n",
    "                                    name=\"bias\", \n",
    "                                    shape=(self.filters,),\n",
    "                                    initializer=self.bias_initializer, \n",
    "                                    constraint=self.bias_constraint, \n",
    "                                    regularizer=self.bias_regularizer, \n",
    "                                    trainable=True, \n",
    "                                    dtype=self.dtype\n",
    "                                    )\n",
    "        else:\n",
    "            self.bias = None\n",
    "        self.built = True\n",
    "    \n",
    "    def _get_diag_kernel(self):\n",
    "        diag = tf.transpose(self.diag_kernel, [1, 0]) ## (C, P*A)\n",
    "        diag = tf.linalg.diag(diag) ## (C, P*A, P*A)\n",
    "        return diag\n",
    "    \n",
    "    def _get_offdiag_kernel(self):\n",
    "        P = self.kernel_size[0]\n",
    "        flat_size = self.diag_kernel.shape[0] ## P*A\n",
    "        A = int(flat_size/P)\n",
    "        offdiag = tf.transpose(self.offdiag_kernel, [1, 0]) ## (C, num_offdiag)\n",
    "        num_rows = P-1\n",
    "        block_size = A*A\n",
    "        C = self.filters \n",
    "        \n",
    "        # get the rows (upto 2nd last row)\n",
    "        rows = []\n",
    "        start_idx = 0\n",
    "        for num_blocks in range(num_rows, 0, -1):\n",
    "            num_zero_blocks = P - num_blocks\n",
    "            zeros = tf.zeros((C, A, A*num_zero_blocks), dtype=offdiag.dtype)\n",
    "            num_elements = num_blocks * block_size\n",
    "            \n",
    "            # get the elements of the current row \n",
    "            row = offdiag[:, start_idx:start_idx+num_elements] ## (C, num_row_elements)\n",
    "            row = tf.reshape(row, (C, A, num_blocks*A)) ## (C, A, numblock*A)\n",
    "            row = tf.concat([zeros, row], 2) ## (C, A, P*A)\n",
    "            start_idx = start_idx + num_elements\n",
    "            rows.append(row)\n",
    "        \n",
    "        # get the last row \n",
    "        rows.append(tf.zeros((C, A, P*A))) ## (C, A, P*A)\n",
    "        \n",
    "        rows = tf.concat(rows, axis=1) ## (C, P*A, P*A)\n",
    "        return rows\n",
    "    \n",
    "    @property\n",
    "    def kernel(self):\n",
    "        diag = self._get_diag_kernel() ## (C, P*A, P*A)\n",
    "        offdiag = self._get_offdiag_kernel() ## (C, P*A, P*A)\n",
    "        kern = diag+offdiag ## (C, P*A, P*A)\n",
    "        kern = tf.transpose(kern, [1, 2, 0])\n",
    "        return kern"
   ]
  },
  {
   "cell_type": "code",
   "execution_count": 21,
   "metadata": {},
   "outputs": [],
   "source": [
    "class NearestNeighborConv1D(HigherOrderConv1D):\n",
    "    \"\"\"\n",
    "    Nearest neighbor convolution on 1D signals. \n",
    "    \"\"\"\n",
    "    def build(self, input_shape):\n",
    "        A = input_shape[-1]\n",
    "        P = self.kernel_size[0]\n",
    "        C = self.filters\n",
    "        flat_size = A*P\n",
    "        if isinstance(self.kernel_regularizer, HigherOrderKernelRegularizer):\n",
    "            diag_regularizer=self.kernel_regularizer.diag_regularizer\n",
    "            offdiag_regularizer=self.kernel_regularizer.offdiag_regularizer\n",
    "        else:\n",
    "            diag_regularizer=self.kernel_regularizer \n",
    "            offdiag_regularizer=self.kernel_regularizer\n",
    "        \n",
    "        # set up the diagonal kernel \n",
    "        diag_shape = [flat_size, C]\n",
    "        self.diag_kernel = self.add_weight(\n",
    "                                    name=\"diag_kernel\",\n",
    "                                    shape=diag_shape,\n",
    "                                    regularizer=diag_regularizer,\n",
    "                                    initializer=self.kernel_initializer, \n",
    "                                    constraint=self.kernel_constraint,\n",
    "                                    trainable=True, \n",
    "                                    dtype=self.dtype\n",
    "                                        )\n",
    "        \n",
    "        # set up the offdiagonal kernel \n",
    "        block_size = A*A\n",
    "        num_blocks = P - 1\n",
    "        offdiag_shape = [num_blocks*block_size, C]\n",
    "        self.offdiag_kernel = self.add_weight(\n",
    "                                        name=\"offdiag_kernel\", \n",
    "                                        shape=offdiag_shape,\n",
    "                                        regularizer=offdiag_regularizer,\n",
    "                                        initializer=self.kernel_initializer,\n",
    "                                        constraint=self.kernel_constraint,\n",
    "                                        trainable=True,\n",
    "                                        dtype=self.dtype\n",
    "                                        )\n",
    "        \n",
    "        # set up the bias \n",
    "        if self.use_bias:\n",
    "            self.bias = self.add_weight(\n",
    "                                    name=\"bias\", \n",
    "                                    shape=(self.filters,),\n",
    "                                    initializer=self.bias_initializer, \n",
    "                                    constraint=self.bias_constraint, \n",
    "                                    regularizer=self.bias_regularizer, \n",
    "                                    trainable=True, \n",
    "                                    dtype=self.dtype\n",
    "                                    )\n",
    "        else:\n",
    "            self.bias = None\n",
    "        self.built = True\n",
    "    \n",
    "    def _get_diag_kernel(self):\n",
    "        diag = tf.transpose(self.diag_kernel, [1, 0]) ## (C, P*A)\n",
    "        diag = tf.linalg.diag(diag) ## (C, P*A, P*A)\n",
    "        return diag\n",
    "    \n",
    "    def _get_offdiag_kernel(self):\n",
    "        P = self.kernel_size[0]\n",
    "        flat_size = self.diag_kernel.shape[0] ## P*A\n",
    "        A = int(flat_size/P)\n",
    "        offdiag = tf.transpose(self.offdiag_kernel, [1, 0]) ## (C, num_offdiag)\n",
    "        num_rows = P-1\n",
    "        block_size = A*A\n",
    "        C = self.filters \n",
    "        \n",
    "        # get the rows (upto 2nd last row)\n",
    "        rows = []\n",
    "        start_idx = 0\n",
    "        for i in range(1, P):\n",
    "            zeros1 = tf.zeros((C, A, A*i), dtype=offdiag.dtype)\n",
    "            row = offdiag[:, start_idx:start_idx+block_size] ## (C, A*A)\n",
    "            row = tf.reshape(row, (C, A, A)) ## (C, A, A)\n",
    "            zeros2 = tf.zeros((C, A, A*(P-1-i)))\n",
    "            row = tf.concat([zeros1, row, zeros2], axis=2)\n",
    "            rows.append(row)\n",
    "        \n",
    "        # get the last row \n",
    "        rows.append(tf.zeros((C, A, P*A), dtype=offdiag.dtype)) ## (C, A, P*A)\n",
    "        \n",
    "        rows = tf.concat(rows, axis=1) ## (C, P*A, P*A)\n",
    "        return rows\n",
    "        \n",
    "    @property\n",
    "    def kernel(self):\n",
    "        diag = self._get_diag_kernel() ## (C, P*A, P*A)\n",
    "        offdiag = self._get_offdiag_kernel() ## (C, P*A, P*A)\n",
    "        kern = diag+offdiag ## (C, P*A, P*A)\n",
    "        kern = tf.transpose(kern, [1, 2, 0])\n",
    "        return kern"
   ]
  },
  {
   "cell_type": "code",
   "execution_count": 22,
   "metadata": {},
   "outputs": [],
   "source": [
    "class PairwiseFromStdConv1D(PairwiseConv1D):\n",
    "    def __init__(self, \n",
    "                stdconv, \n",
    "                offdiag_regularizer=None, \n",
    "                offdiag_initializer=\"zeros\", \n",
    "                offdiag_constraint=None):\n",
    "        assert isinstance(stdconv, tfk.layers.Conv1D), 'stdconv has to be an instance keras.layers.Conv1D.'\n",
    "        argspec = inspect.getfullargspec(stdconv.__init__)\n",
    "        args = argspec.args[1:]\n",
    "        super_kwargs = {}\n",
    "        for arg in args:\n",
    "            super_kwargs[arg] = eval(\"stdconv.%s\"%arg)\n",
    "        super().__init__(**super_kwargs)\n",
    "\n",
    "        # set up the diagonal kernel \n",
    "        self.A = stdconv.kernel.shape[1]\n",
    "        diag_kern = tf.convert_to_tensor(stdconv.kernel.numpy(), dtype=self.dtype)\n",
    "        diag_kern = tf.reshape(diag_kern, (-1, self.filters))\n",
    "        self.diag_kernel = tf.Variable(name='diag_kernel',\n",
    "                                    initial_value=diag_kern,\n",
    "                                    dtype=self.dtype,\n",
    "                                    trainable=False,\n",
    "                                    )\n",
    "\n",
    "        # set up the bias \n",
    "        if self.use_bias:\n",
    "            self.bias = tf.Variable(initial_value=stdconv.bias, dtype=self.dtype, trainable=False, name='bias')\n",
    "        else:\n",
    "            self.bias = None\n",
    "        \n",
    "        # add the remaining initializer args \n",
    "        self.offdiag_regularizer=offdiag_regularizer\n",
    "        self.offdiag_initializer=offdiag_initializer \n",
    "        self.offdiag_constraint=offdiag_constraint\n",
    "\n",
    "    def build(self, input_shape):\n",
    "        A = input_shape[-1]\n",
    "        assert A == self.A, 'Invalid shape.'\n",
    "        P = self.kernel_size[0]\n",
    "        flat_size = A*P\n",
    "        C = self.filters \n",
    "\n",
    "        # set up the offdiagonal kernel \n",
    "        num_rows = P - 1 \n",
    "        block_size = A*A\n",
    "        num_blocks = int(0.5 * num_rows *(num_rows+1))\n",
    "        offdiag_shape = [num_blocks*block_size, C]\n",
    "        self.offdiag_kernel = self.add_weight(\n",
    "                                        name=\"offdiag_kernel\", \n",
    "                                        shape=offdiag_shape,\n",
    "                                        regularizer=self.offdiag_regularizer,\n",
    "                                        initializer=self.offdiag_initializer,\n",
    "                                        constraint=self.offdiag_constraint,\n",
    "                                        trainable=True,\n",
    "                                        dtype=self.dtype\n",
    "                                        )\n",
    "        self.built = True"
   ]
  },
  {
   "cell_type": "code",
   "execution_count": 34,
   "metadata": {},
   "outputs": [],
   "source": [
    "class NearestNeighborFromStdConv1D(NearestNeighborConv1D):\n",
    "    def __init__(self, \n",
    "                stdconv, \n",
    "                offdiag_regularizer=None, \n",
    "                offdiag_initializer=\"zeros\", \n",
    "                offdiag_constraint=None):\n",
    "        assert isinstance(stdconv, tfk.layers.Conv1D), 'stdconv has to be an instance keras.layers.Conv1D.'\n",
    "        argspec = inspect.getfullargspec(stdconv.__init__)\n",
    "        args = argspec.args[1:]\n",
    "        super_kwargs = {}\n",
    "        for arg in args:\n",
    "            super_kwargs[arg] = eval(\"stdconv.%s\"%arg)\n",
    "        super().__init__(**super_kwargs)\n",
    "\n",
    "        # set up the diagonal kernel \n",
    "        self.A = stdconv.kernel.shape[1]\n",
    "        diag_kern = tf.convert_to_tensor(stdconv.kernel.numpy(), dtype=self.dtype)\n",
    "        diag_kern = tf.reshape(diag_kern, (-1, self.filters))\n",
    "        self.diag_kernel = tf.Variable(name='diag_kernel',\n",
    "                                    initial_value=diag_kern,\n",
    "                                    dtype=self.dtype,\n",
    "                                    trainable=False,\n",
    "                                    )\n",
    "\n",
    "        # set up the bias \n",
    "        if self.use_bias:\n",
    "            self.bias = tf.Variable(initial_value=stdconv.bias, dtype=self.dtype, trainable=False, name='bias')\n",
    "        else:\n",
    "            self.bias = None\n",
    "        \n",
    "        # add the remaining initializer args \n",
    "        self.offdiag_regularizer=offdiag_regularizer\n",
    "        self.offdiag_initializer=offdiag_initializer \n",
    "        self.offdiag_constraint=offdiag_constraint\n",
    "\n",
    "    def build(self, input_shape):\n",
    "        A = input_shape[-1]\n",
    "        assert A == self.A, 'Invalid shape.'\n",
    "        P = self.kernel_size[0]\n",
    "        flat_size = A*P\n",
    "        C = self.filters \n",
    "\n",
    "        # set up the offdiagonal kernel \n",
    "        block_size = A*A\n",
    "        num_blocks = P-1\n",
    "        offdiag_shape = [num_blocks*block_size, C]\n",
    "        self.offdiag_kernel = self.add_weight(\n",
    "                                        name=\"offdiag_kernel\", \n",
    "                                        shape=offdiag_shape,\n",
    "                                        regularizer=self.offdiag_regularizer,\n",
    "                                        initializer=self.offdiag_initializer,\n",
    "                                        constraint=self.offdiag_constraint,\n",
    "                                        trainable=True,\n",
    "                                        dtype=self.dtype\n",
    "                                        )\n",
    "        self.built = True"
   ]
  },
  {
   "cell_type": "code",
   "execution_count": 44,
   "metadata": {
    "scrolled": false
   },
   "outputs": [
    {
     "data": {
      "image/png": "[encoded data removed]",
      "text/plain": [
       "<Figure size 576x576 with 8 Axes>"
      ]
     },
     "metadata": {
      "needs_background": "light"
     },
     "output_type": "display_data"
    }
   ],
   "source": [
    "diag_regularizer = tfk.regularizers.l2(1e-6)\n",
    "offdiag_regularizer = tfk.regularizers.l1_l2(l1=1e-3, l2=1e-3)\n",
    "kernel_regularizer = HigherOrderKernelRegularizer(diag_regularizer=diag_regularizer,\n",
    "                                                 offdiag_regularizer=offdiag_regularizer)\n",
    "conv_kwargs = {'filters':32, 'kernel_size':19, \n",
    "               'padding':'same'}\n",
    "stdconv = tfk.layers.Conv1D(kernel_regularizer=diag_regularizer, **conv_kwargs)\n",
    "\n",
    "x = tf.random.normal((2, 50, 4))\n",
    "y = stdconv(x)\n",
    "#print(x.shape, y.shape, stdconv.kernel.shape)\n",
    "\n",
    "pconv1 = PairwiseConv1D(kernel_regularizer=kernel_regularizer, **conv_kwargs)\n",
    "pconv2 = PairwiseFromStdConv1D(stdconv=stdconv, offdiag_initializer=tfk.initializers.he_uniform,\n",
    "                               offdiag_regularizer=offdiag_regularizer)\n",
    "nnconv1 = NearestNeighborConv1D(kernel_regularizer=kernel_regularizer, **conv_kwargs)\n",
    "nnconv2 = NearestNeighborFromStdConv1D(stdconv=stdconv, offdiag_initializer=tfk.initializers.he_uniform,\n",
    "                               offdiag_regularizer=offdiag_regularizer)\n",
    "\n",
    "layers = [pconv1, pconv2, nnconv1, nnconv2]\n",
    "\n",
    "fig, ax = plt.subplots(2, 2, figsize=(8,8))\n",
    "for i, layer in enumerate(layers):\n",
    "    layer.build((50,4))\n",
    "    K = tf.transpose(layer.kernel, (2, 0, 1)).numpy()\n",
    "    VAL = np.maximum(np.abs(K[0].max()), np.abs(K[0].min()))\n",
    "    k = K[0]\n",
    "    sns.heatmap(k[:24, :24], vmax=VAL, vmin=-VAL, cmap='bwr', linewidths=1, ax=ax[i//2, i%2])\n",
    "    ax[i//2, i%2].set_title(layer.name)\n",
    "fig.tight_layout()"
   ]
  },
  {
   "cell_type": "code",
   "execution_count": 41,
   "metadata": {},
   "outputs": [
    {
     "name": "stdout",
     "output_type": "stream",
     "text": [
      "(2736, 32) (2736, 32)\n"
     ]
    }
   ],
   "source": [
    "print(pconv1.offdiag_kernel.shape, pconv2.offdiag_kernel.shape)"
   ]
  },
  {
   "cell_type": "code",
   "execution_count": 29,
   "metadata": {},
   "outputs": [
    {
     "data": {
      "text/plain": [
       "<AxesSubplot:>"
      ]
     },
     "execution_count": 29,
     "metadata": {},
     "output_type": "execute_result"
    },
    {
     "data": {
      "image/png": "[encoded data removed]",
      "text/plain": [
       "<Figure size 432x288 with 2 Axes>"
      ]
     },
     "metadata": {
      "needs_background": "light"
     },
     "output_type": "display_data"
    }
   ],
   "source": [
    "K = tf.transpose(conv.kernel, (2, 0, 1)).numpy()\n",
    "VAL = np.maximum(np.abs(K[0].max()), np.abs(K[0].min()))\n",
    "k = K[0]\n",
    "sns.heatmap(k[:24, :24], vmax=VAL, vmin=-VAL, cmap='bwr', linewidths=1)"
   ]
  },
  {
   "cell_type": "code",
   "execution_count": null,
   "metadata": {},
   "outputs": [],
   "source": []
  },
  {
   "cell_type": "code",
   "execution_count": 19,
   "metadata": {},
   "outputs": [
    {
     "name": "stdout",
     "output_type": "stream",
     "text": [
      "(2, 50, 4) (2, 50, 32) (19, 4, 32)\n",
      "(2, 50, 4) (2, 50, 32) (76, 76, 32)\n",
      "(2, 50, 4) (2, 50, 32) (76, 76, 32)\n",
      "pairwise_conv1d_2/diag_kernel:0 (76, 32)\n",
      "pairwise_conv1d_2/offdiag_kernel:0 (2736, 32)\n",
      "pairwise_conv1d_2/bias:0 (32,)\n"
     ]
    }
   ],
   "source": [
    "diag_regularizer = tfk.regularizers.l2(1e-6)\n",
    "offdiag_regularizer = tfk.regularizers.l1_l2(l1=1e-3, l2=1e-3)\n",
    "kernel_regularizer = HigherOrderKernelRegularizer(diag_regularizer=diag_regularizer,\n",
    "                                                 offdiag_regularizer=offdiag_regularizer)\n",
    "conv_kwargs = {'filters':32, 'kernel_size':19, \n",
    "               'padding':'same'}\n",
    "stdconv = tfk.layers.Conv1D(kernel_regularizer=diag_regularizer, **conv_kwargs)\n",
    "#conv = PairwiseConv1D(**conv_kwargs)\n",
    "x = tf.random.normal((2, 50, 4))\n",
    "y = stdconv(x)\n",
    "print(x.shape, y.shape, stdconv.kernel.shape)\n",
    "\n",
    "conv = PairwiseFromStdConv1D(stdconv)\n",
    "y = conv(x)\n",
    "print(x.shape, y.shape, conv.kernel.shape)\n",
    "\n",
    "conv = PairwiseConv1D(**conv_kwargs)\n",
    "y = conv(x)\n",
    "print(x.shape, y.shape, conv.kernel.shape)\n",
    "\n",
    "for v in conv.trainable_variables:\n",
    "    print(v.name, v.shape)"
   ]
  },
  {
   "cell_type": "code",
   "execution_count": null,
   "metadata": {},
   "outputs": [],
   "source": [
    "class Neares(HigherOrderConv1D):\n",
    "    \"\"\"\n",
    "    Pairwise convolution on 1D signals. \n",
    "    \"\"\"\n",
    "    def build(self, input_shape):\n",
    "        A = input_shape[-1]\n",
    "        P = self.kernel_size[0]\n",
    "        C = self.filters\n",
    "        flat_size = A*P\n",
    "        if isinstance(self.kernel_regularizer, HigherOrderKernelRegularizer):\n",
    "            diag_regularizer=self.kernel_regularizer.diag_regularizer\n",
    "            offdiag_regularizer=self.kernel_regularizer.offdiag_regularizer\n",
    "        else:\n",
    "            diag_regularizer=self.kernel_regularizer \n",
    "            offdiag_regularizer=self.kernel_regularizer"
   ]
  },
  {
   "cell_type": "code",
   "execution_count": null,
   "metadata": {},
   "outputs": [],
   "source": [
    "K = tf.transpose(conv.kernel, (2, 0, 1)).numpy()\n",
    "VAL = np.maximum(np.abs(K[0].max()), np.abs(K[0].min()))\n",
    "k = K[0]\n",
    "sns.heatmap(k[:12, :12], vmax=VAL, vmin=-VAL, cmap='bwr', linewidths=1)"
   ]
  },
  {
   "cell_type": "code",
   "execution_count": null,
   "metadata": {},
   "outputs": [],
   "source": [
    "print()"
   ]
  },
  {
   "cell_type": "code",
   "execution_count": null,
   "metadata": {},
   "outputs": [],
   "source": [
    "x1 = tf.random.normal((1, 2))\n",
    "x2 = tf.random.normal((1, 5))\n",
    "print(x1)\n",
    "print(x2)\n",
    "print(tf.concat([x1, x2], 1))"
   ]
  },
  {
   "cell_type": "code",
   "execution_count": null,
   "metadata": {},
   "outputs": [],
   "source": [
    "for i in range(5,0,-1):\n",
    "    print(i)"
   ]
  },
  {
   "cell_type": "code",
   "execution_count": null,
   "metadata": {},
   "outputs": [],
   "source": [
    "diag_regularizer = tfk.regularizers.l2(1e-6)\n",
    "offdiag_regularizer = tfk.regularizers.l1_l2(l1=1e-3, l2=1e-3)\n",
    "kernel_regularizer = HigherOrderKernelRegularizer(diag_regularizer=diag_regularizer,\n",
    "                                                 offdiag_regularizer=offdiag_regularizer)\n",
    "conv_kwargs = {'filters':32, 'kernel_size':19, \n",
    "               'padding':'same', 'kernel_regularizer':kernel_regularizer}\n",
    "conv = PairwiseConv1D(**conv_kwargs)\n",
    "x = tf.random.normal((2, 50, 4))\n",
    "y = conv(x)\n",
    "print(x.shape, y.shape)"
   ]
  },
  {
   "cell_type": "code",
   "execution_count": null,
   "metadata": {},
   "outputs": [],
   "source": [
    "for v in (conv.trainable_variables):\n",
    "    print(v.name, v.shape)"
   ]
  },
  {
   "cell_type": "code",
   "execution_count": null,
   "metadata": {},
   "outputs": [],
   "source": []
  },
  {
   "cell_type": "code",
   "execution_count": null,
   "metadata": {},
   "outputs": [],
   "source": [
    "# # set up ssh and scp connection \n",
    "# username, hostname = os.getenv('BAMDEV1').split(\"@\")\n",
    "# ssh = SSHClient()\n",
    "# ssh.load_system_host_keys()\n",
    "# ssh.connect(hostname=hostname, username=username)\n",
    "# remotehome = ssh.exec_command(\"echo $HOME\")[1].readlines()[0].strip()\n",
    "# scp = SCPClient(ssh.get_transport())\n",
    "# REMOTEDATADIR = os.path.join(remotehome, \"projects/higher_order_convolutions\", 'data', 'deepbind_encode_chipseq')"
   ]
  },
  {
   "cell_type": "code",
   "execution_count": null,
   "metadata": {},
   "outputs": [],
   "source": [
    "# download data for a particular tfid\n",
    "tfid = \"POLR2A_K562_Pol2_HudsonAlpha\"\n",
    "print(\"Downloading data ...\")\n",
    "if not os.path.exists(\"data.h5\"):\n",
    "    scp.get(remote_path=os.path.join(REMOTEDATADIR, tfid, 'data.h5'))\n",
    "print(\"Loading data ...\")\n",
    "data = h5py.File('data.h5', 'r')\n",
    "x_train = data['X_train'][:]\n",
    "y_train = data['Y_train'][:]\n",
    "x_test = data['X_test'][:]\n",
    "y_test = data['Y_test'][:]\n",
    "if y_train.ndim == 1:\n",
    "    y_train = y_train[:, None]\n",
    "if y_test.ndim == 1:\n",
    "    y_test = y_test[:, None]\n",
    "data.close()\n",
    "!rm data.h5"
   ]
  },
  {
   "cell_type": "markdown",
   "metadata": {},
   "source": [
    "### `CNN-25` model definition"
   ]
  },
  {
   "cell_type": "code",
   "execution_count": null,
   "metadata": {},
   "outputs": [],
   "source": [
    "conv_type_dict = {'standard':tfk.layers.Conv1D, 'pairwise':PairwiseConv1D, 'nearest_neighbor':NearestNeighborConv1D}\n",
    "\n",
    "def cnn25_model(input_shape, first_conv_layer):\n",
    "    \"\"\"\n",
    "    Set up the first convolutional layer outside this function. \n",
    "    \"\"\"\n",
    "    x = tfk.layers.Input(shape=input_shape, name='input')\n",
    "    \n",
    "    # 1st conv layer\n",
    "    assert isinstance(first_conv_layer, tfk.layers.Conv1D)\n",
    "    y = first_conv_layer(x)\n",
    "    y = tfk.layers.BatchNormalization()(y)\n",
    "    y = tfk.layers.Activation('relu')(y)\n",
    "    y = tfk.layers.MaxPool1D(pool_size=25)(y)\n",
    "    y = tfk.layers.Dropout(0.2)(y)\n",
    "    \n",
    "    # remaining layers \n",
    "    y = tfk.layers.Conv1D(filters=128, kernel_size=7, padding='same', kernel_regularizer=tfk.regularizers.l2(1e-6))(y)\n",
    "    y = tfk.layers.BatchNormalization()(y)\n",
    "    y = tfk.layers.Activation('relu')(y)\n",
    "    y = tfk.layers.MaxPool1D(pool_size=2)(y) \n",
    "    y = tfk.layers.Dropout(0.2)(y)\n",
    "    \n",
    "    y = tfk.layers.Flatten()(y)\n",
    "    y = tfk.layers.Dense(512, kernel_regularizer=tfk.regularizers.l2(1e-6))(y)      \n",
    "    y = tfk.layers.BatchNormalization()(y)\n",
    "    y = tfk.layers.Activation('relu')(y)\n",
    "    y = tfk.layers.Dropout(0.5)(y)\n",
    "    \n",
    "    y = tfk.layers.Dense(1, name='logits')(y) ## logits\n",
    "    y = tfk.layers.Activation('sigmoid', name='output')(y) ## final output \n",
    "    \n",
    "    model = tfk.Model(inputs=x, outputs=y, name='cnn-25')\n",
    "    \n",
    "    return model"
   ]
  },
  {
   "cell_type": "markdown",
   "metadata": {},
   "source": [
    "### `CNN-25` with standard 1st layer convolution"
   ]
  },
  {
   "cell_type": "markdown",
   "metadata": {},
   "source": [
    "#### Train the standard and pairwise conv models "
   ]
  },
  {
   "cell_type": "code",
   "execution_count": null,
   "metadata": {
    "scrolled": false
   },
   "outputs": [],
   "source": [
    "# set up the model \n",
    "input_shape = x_train.shape[1:]\n",
    "diag_regularizer = tfk.regularizers.l2(1e-6)\n",
    "conv_kwargs = {'filters':32, 'kernel_size':19, \n",
    "               'padding':'same', 'kernel_regularizer':diag_regularizer}\n",
    "first_conv_layer = tfk.layers.Conv1D(**conv_kwargs)\n",
    "stdmodel = cnn25_model(input_shape=input_shape, first_conv_layer=first_conv_layer)\n",
    "\n",
    "# compile the conv model \n",
    "lossfn = tfk.losses.binary_crossentropy\n",
    "optimizer = tfk.optimizers.Adam(learning_rate=1e-3)\n",
    "aupr = tfk.metrics.AUC(curve='PR', name='AUPR')\n",
    "auroc = tfk.metrics.AUC(curve='ROC', name='AUROC')\n",
    "acc = tfk.metrics.BinaryAccuracy(name='ACC')\n",
    "metrics = [acc, auroc, aupr]\n",
    "compile_options = {'loss':lossfn, 'optimizer':optimizer, 'metrics':metrics}\n",
    "stdmodel.compile(**compile_options)\n",
    "\n",
    "# setup callback \n",
    "es = tfk.callbacks.EarlyStopping(monitor='val_AUROC', patience=10, verbose=1, mode='max')\n",
    "reduce_lr = tfk.callbacks.ReduceLROnPlateau(monitor='val_AUROC', factor=0.1,\n",
    "                                                 patience=10, min_lr=1e-7,mode='max',verbose=0)\n",
    "callbacks = [es, reduce_lr]\n",
    "    \n",
    "# fit model \n",
    "print(\"Fit model with standard convolution 1st layer...\")\n",
    "batch_size = 128\n",
    "epochs = 40\n",
    "stdhist=stdmodel.fit(x_train, y_train, \n",
    "                     validation_split=0.2, batch_size=batch_size, epochs=epochs, callbacks=callbacks)"
   ]
  },
  {
   "cell_type": "code",
   "execution_count": null,
   "metadata": {
    "scrolled": false
   },
   "outputs": [],
   "source": [
    "# fit transferred model \n",
    "print(\"Fit model with transferred pairwise convolution 1st layer...\")\n",
    "stdconv = stdmodel.layers[1]\n",
    "offdiag_regularizer = tfk.regularizers.l1(10.)\n",
    "pconv = PairwiseFromStdConv1D(stdconv=stdconv, offdiag_regularizer=offdiag_regularizer)\n",
    "pmodel = cnn25_model(first_conv_layer=pconv, input_shape=input_shape)\n",
    "compile_options['optimizer'] = tfk.optimizers.Adam(learning_rate=1e-2)\n",
    "pmodel.compile(**compile_options)\n",
    "phist = pmodel.fit(x_train, y_train, \n",
    "                   validation_split=0.2, batch_size=batch_size, epochs=epochs, callbacks=callbacks)"
   ]
  },
  {
   "cell_type": "code",
   "execution_count": null,
   "metadata": {},
   "outputs": [],
   "source": [
    "# fit pairwise model without tranferring std conv kernel  \n",
    "offdiag_regularizer = tfk.regularizers.l1(10.)\n",
    "kernel_regularizer = HigherOrderKernelRegularizer(diag_regularizer=diag_regularizer, \n",
    "                                                  offdiag_regularizer=offdiag_regularizer)\n",
    "conv_kwargs['kernel_regularizer'] = kernel_regularizer\n",
    "first_conv_layer = PairwiseConv1D(**conv_kwargs)\n",
    "pmodel2 = cnn25_model(first_conv_layer=first_conv_layer, input_shape=input_shape)\n",
    "compile_options['optimizer'] = tfk.optimizers.Adam(learning_rate=1e-2)\n",
    "pmodel2.compile(**compile_options)\n",
    "phist = pmodel2.fit(x_train, y_train, \n",
    "                   validation_split=0.2, batch_size=batch_size, epochs=epochs, callbacks=callbacks)"
   ]
  },
  {
   "cell_type": "markdown",
   "metadata": {},
   "source": [
    "#### Check training curves; visualize distribution of weights "
   ]
  },
  {
   "cell_type": "code",
   "execution_count": null,
   "metadata": {},
   "outputs": [],
   "source": [
    "x = np.arange(len(stdhist.history['loss']))\n",
    "fig, ax = plt.subplots(2, 2, figsize=(12, 8))\n",
    "for i, name in enumerate(pmodel.metrics_names):\n",
    "    r, c = int(i/2), int(i%2)\n",
    "    x = np.arange(len(stdhist.history['loss']))\n",
    "    ax[r, c].plot(x, stdhist.history['val_%s'%name], label='standard')\n",
    "    x = np.arange(len(phist.history['loss']))\n",
    "    ax[r, c].plot(x, phist.history['val_%s'%name], label='pairwise')\n",
    "    ax[r, c].legend(loc='best', fontsize=15)\n",
    "    ax[r, c].set_title(name.title())\n",
    "fig.tight_layout()"
   ]
  },
  {
   "cell_type": "code",
   "execution_count": null,
   "metadata": {},
   "outputs": [],
   "source": [
    "plt.figure(figsize=(12, 5))\n",
    "h1=plt.hist(pmodel.layers[1].diag_kernel.numpy().flatten(), linewidth=0., bins=50, label='diagonal', density=True)\n",
    "h2=plt.hist(pmodel.layers[1].offdiag_kernel.numpy().flatten(), linewidth=0., bins=50, label='off diagonal', density=True);\n",
    "plt.legend(loc='best', fontsize=15)\n",
    "plt.ylim([0, h2[0].max()]);"
   ]
  },
  {
   "cell_type": "markdown",
   "metadata": {},
   "source": [
    "#### Compute test metrics "
   ]
  },
  {
   "cell_type": "code",
   "execution_count": null,
   "metadata": {},
   "outputs": [],
   "source": [
    "y_pred = stdmodel.predict(x_test, verbose=0)\n",
    "test_metrics = {}\n",
    "for metric in stdmodel.metrics[1:]:\n",
    "    test_metrics[metric.name] = [metric(y_test, y_pred).numpy()]\n",
    "std_df = pd.DataFrame(data=test_metrics, index=['Value'])"
   ]
  },
  {
   "cell_type": "code",
   "execution_count": null,
   "metadata": {},
   "outputs": [],
   "source": [
    "y_pred = pmodel.predict(x_test, verbose=0)\n",
    "test_metrics = {}\n",
    "for metric in pmodel.metrics[1:]:\n",
    "    test_metrics[metric.name] = [metric(y_test, y_pred).numpy()]\n",
    "p_df = pd.DataFrame(data=test_metrics, index=['Value'])"
   ]
  },
  {
   "cell_type": "code",
   "execution_count": null,
   "metadata": {},
   "outputs": [],
   "source": [
    "y_pred = pmodel2.predict(x_test, verbose=0)\n",
    "test_metrics = {}\n",
    "for metric in pmodel2.metrics[1:]:\n",
    "    test_metrics[metric.name] = [metric(y_test, y_pred).numpy()]\n",
    "p2_df = pd.DataFrame(data=test_metrics, index=['Value'])"
   ]
  },
  {
   "cell_type": "code",
   "execution_count": null,
   "metadata": {},
   "outputs": [],
   "source": [
    "std_df"
   ]
  },
  {
   "cell_type": "code",
   "execution_count": null,
   "metadata": {},
   "outputs": [],
   "source": [
    "p_df"
   ]
  },
  {
   "cell_type": "code",
   "execution_count": null,
   "metadata": {},
   "outputs": [],
   "source": [
    "p2_df"
   ]
  },
  {
   "cell_type": "markdown",
   "metadata": {},
   "source": [
    "#### Visualize the filters "
   ]
  },
  {
   "cell_type": "code",
   "execution_count": null,
   "metadata": {},
   "outputs": [],
   "source": [
    "# filter visualization \n",
    "fig = plt.figure(figsize=(20,12))\n",
    "filters = moana.filter_activations(x_test, pmodel2, layer=3, window=20, threshold=0.5)\n",
    "impress.plot_filters(filters, fig, num_cols=4, alphabet='ACGT');"
   ]
  },
  {
   "cell_type": "code",
   "execution_count": null,
   "metadata": {},
   "outputs": [],
   "source": [
    "# filter visualization \n",
    "fig = plt.figure(figsize=(20,12))\n",
    "filters = moana.filter_activations(x_test, stdmodel, layer=3, window=20, threshold=0.5)\n",
    "impress.plot_filters(filters, fig, num_cols=4, alphabet='ACGT');"
   ]
  },
  {
   "cell_type": "code",
   "execution_count": null,
   "metadata": {},
   "outputs": [],
   "source": [
    "# filter visualization \n",
    "fig = plt.figure(figsize=(20,12))\n",
    "filters = moana.filter_activations(x_test, pmodel, layer=3, window=20, threshold=0.5)\n",
    "impress.plot_filters(filters, fig, num_cols=4, alphabet='ACGT');"
   ]
  },
  {
   "cell_type": "markdown",
   "metadata": {},
   "source": [
    "### `CNN-25` with pairwise convolution as the 1st layer "
   ]
  },
  {
   "cell_type": "code",
   "execution_count": null,
   "metadata": {},
   "outputs": [],
   "source": [
    "# set up the first layer conv layer and the full model \n",
    "stdconv = stdmodel.layers[1]\n",
    "offdiag_regularizer = tfk.regularizers.l1(1e-2)\n",
    "first_conv_layer = PairwiseFromStdConv1D(stdconv=stdconv, offdiag_regularizer=offdiag_regularizer)\n",
    "pmodel = cnn25_model(input_shape=input_shape, first_conv_layer=first_conv_layer)\n",
    "\n",
    "# compile the conv model \n",
    "lossfn = tfk.losses.binary_crossentropy\n",
    "optimizer = tfk.optimizers.Adam(learning_rate=1e-3)\n",
    "aupr = tfk.metrics.AUC(curve='PR', name='AUPR')\n",
    "auroc = tfk.metrics.AUC(curve='ROC', name='AUROC')\n",
    "acc = tfk.metrics.BinaryAccuracy(name='ACC')\n",
    "metrics = [acc, auroc, aupr]\n",
    "compile_options = {'loss':lossfn, 'optimizer':optimizer, 'metrics':metrics}\n",
    "pmodel.compile(**compile_options)\n",
    "\n",
    "# setup callback \n",
    "es = tfk.callbacks.EarlyStopping(monitor='val_AUROC', patience=10, verbose=1, mode='max')\n",
    "reduce_lr = tfk.callbacks.ReduceLROnPlateau(monitor='val_AUROC', factor=0.1,\n",
    "                                                 patience=10, min_lr=1e-7,mode='max',verbose=0)\n",
    "callbacks = [es, reduce_lr]\n",
    "    \n",
    "# fit model \n",
    "pmodel.fit(x_train, y_train, validation_split=0.2, batch_size=128, epochs=30, callbacks=callbacks)"
   ]
  },
  {
   "cell_type": "code",
   "execution_count": null,
   "metadata": {},
   "outputs": [],
   "source": [
    "y_pred = pmodel.predict(x_test, verbose=0)\n",
    "test_metrics = {}\n",
    "for metric in stdmodel.metrics[1:]:\n",
    "    test_metrics[metric.name] = [metric(y_test, y_pred).numpy()]\n",
    "pd.DataFrame(data=test_metrics, index=['Value'])"
   ]
  },
  {
   "cell_type": "code",
   "execution_count": null,
   "metadata": {},
   "outputs": [],
   "source": [
    "# filter visualization \n",
    "fig = plt.figure(figsize=(20,12))\n",
    "filters = moana.filter_activations(x_test, pmodel, layer=3, window=20, threshold=0.5)\n",
    "impress.plot_filters(filters, fig, num_cols=4, alphabet='ACGT');"
   ]
  },
  {
   "cell_type": "code",
   "execution_count": null,
   "metadata": {},
   "outputs": [],
   "source": [
    "from tfomics import explain, evaluate"
   ]
  },
  {
   "cell_type": "code",
   "execution_count": null,
   "metadata": {},
   "outputs": [],
   "source": [
    "std_explainer = explain.Explainer(stdmodel, class_index=0)\n",
    "p_explainer = explain.Explainer(pmodel, class_index=0)\n",
    "\n",
    "std_saliency = std_explainer.saliency_maps(x_test[:500])\n",
    "p_saliency = p_explainer.saliency_maps(x_test[:500])\n",
    "\n",
    "std_smoothgrad = std_explainer.smoothgrad(x_test[:500])\n",
    "p_smoothgrad = p_explainer.smoothgrad(x_test[:500])"
   ]
  },
  {
   "cell_type": "code",
   "execution_count": null,
   "metadata": {},
   "outputs": [],
   "source": [
    "p2_explainer = explain.Explainer(pmodel2, class_index=0)\n",
    "p2_saliency = p2_explainer.saliency_maps(x_test[:500])\n",
    "p2_smoothgrad = p2_explainer.smoothgrad(x_test[:500])\n",
    "alphabet = 'ACGT'\n",
    "fig = plt.figure(figsize=(20, 4))\n",
    "\n",
    "ax = fig.add_subplot(211)\n",
    "df = pd.DataFrame(data=p2_saliency[0], columns=list(alphabet))\n",
    "logo = logomaker.Logo(df=df, ax=ax)\n",
    "ax.set_ylabel(\"Pairwise\")\n",
    "ax.set_title(\"Saliency map\")\n",
    "\n",
    "ax = fig.add_subplot(212)\n",
    "df = pd.DataFrame(data=p2_smoothgrad[0], columns=list(alphabet))\n",
    "logo = logomaker.Logo(df=df, ax=ax)\n",
    "ax.set_ylabel(\"Pairwise\")\n",
    "ax.set_title(\"Smoothgrad\")"
   ]
  },
  {
   "cell_type": "code",
   "execution_count": null,
   "metadata": {},
   "outputs": [],
   "source": [
    "alphabet = 'ACGT'\n",
    "\n",
    "fig = plt.figure(figsize=(20, 8))\n",
    "ax = fig.add_subplot(411)\n",
    "df = pd.DataFrame(data=std_saliency[0], columns=list(alphabet))\n",
    "logo = logomaker.Logo(df=df, ax=ax)\n",
    "ax.set_ylabel(\"Standard\")\n",
    "ax.set_title(\"Saliency map\")\n",
    "\n",
    "ax = fig.add_subplot(412)\n",
    "df = pd.DataFrame(data=p_saliency[0], columns=list(alphabet))\n",
    "logo = logomaker.Logo(df=df, ax=ax)\n",
    "ax.set_ylabel(\"Pairwise\")\n",
    "ax.set_title(\"Saliency map\")\n",
    "\n",
    "ax = fig.add_subplot(413)\n",
    "df = pd.DataFrame(data=std_smoothgrad[0], columns=list(alphabet))\n",
    "logo = logomaker.Logo(df=df, ax=ax)\n",
    "ax.set_ylabel(\"Standard\")\n",
    "ax.set_title(\"Smoothgrad\")\n",
    "\n",
    "ax = fig.add_subplot(414)\n",
    "df = pd.DataFrame(data=p_smoothgrad[0], columns=list(alphabet))\n",
    "logo = logomaker.Logo(df=df, ax=ax)\n",
    "ax.set_ylabel(\"pairwise\")\n",
    "ax.set_title(\"Smoothgrad\")"
   ]
  },
  {
   "cell_type": "code",
   "execution_count": null,
   "metadata": {},
   "outputs": [],
   "source": []
  },
  {
   "cell_type": "code",
   "execution_count": null,
   "metadata": {},
   "outputs": [],
   "source": [
    "def analyze(model, num_analyze=200):\n",
    "    N, L, A = x_train.shape\n",
    "\n",
    "    # get positive label sequences and sequence model\n",
    "    pos_index = np.where(y_test[:,0] == 1)[0]   \n",
    "    X = x_test[pos_index[:num_analyze]] ## examples of the positive class \n",
    "    X_model = model_test[pos_index[:num_analyze]]\n",
    "\n",
    "    # instantiate explainer class\n",
    "    explainer = explain.Explainer(model, class_index=0)\n",
    "\n",
    "    # calculate attribution maps\n",
    "    mutagenesis_scores = explainer.mutagenesis(X, class_index=None)\n",
    "    saliency_scores = explainer.saliency_maps(X)\n",
    "    smoothgrad_scores = explainer.smoothgrad(X, num_samples=50, mean=0.0, stddev=0.1)\n",
    "    intgrad_scores = explainer.integrated_grad(X, baseline_type='zeros')\n",
    "    expintgrad_scores = explainer.expected_integrated_grad(X, num_baseline=50, baseline_type='random')\n",
    "\n",
    "\n",
    "    scores_dict = {\n",
    "    \"mutagenesis_scores\":mutagenesis_scores,\n",
    "    \"saliency_scores\":saliency_scores,\n",
    "    \"smoothgrad_scores\":smoothgrad_scores,\n",
    "    \"intgrad_scores\":intgrad_scores,\n",
    "    \"expintgrad_scores\":expintgrad_scores\n",
    "    }\n",
    "    return scores_dict, X, X_model\n",
    "\n",
    "def reduce(scores_dict, X):\n",
    "    # reduce attribution maps to 1D scores\n",
    "    mut_scores = explain.l2_norm(scores_dict[\"mutagenesis_scores\"])\n",
    "    sal_scores = explain.grad_times_input(X, scores_dict[\"saliency_scores\"])\n",
    "    sg_scores = explain.grad_times_input(X, scores_dict[\"smoothgrad_scores\"])\n",
    "    int_scores = explain.grad_times_input(X, scores_dict[\"intgrad_scores\"])\n",
    "    expint_scores = explain.grad_times_input(X, scores_dict[\"expintgrad_scores\"])\n",
    "    scores1d_dict = {\n",
    "                \"mut_scores\":mut_scores,\n",
    "                \"sal_scores\":sal_scores,\n",
    "                \"sg_scores\":sg_scores,\n",
    "                \"int_scores\":int_scores,\n",
    "                \"expint_scores\":expint_scores\n",
    "                }\n",
    "    return scores1d_dict, X\n",
    "\n",
    "def compare_scores(scores1d_dict, X_model):\n",
    "    # compare distribution of attribution scores at positions with and without motifs\n",
    "    threshold = 0.1\n",
    "    mutagenesis_roc, mutagenesis_pr = evaluate.interpretability_performance(scores1d_dict[\"mut_scores\"], X_model, threshold)\n",
    "    saliency_roc, saliency_pr = evaluate.interpretability_performance(scores1d_dict[\"sal_scores\"], X_model, threshold)\n",
    "    smoothgrad_roc, smoothgrad_pr = evaluate.interpretability_performance(scores1d_dict[\"sg_scores\"], X_model, threshold)\n",
    "    intgrad_roc, intgrad_pr = evaluate.interpretability_performance(scores1d_dict[\"int_scores\"], X_model, threshold)\n",
    "    expintgrad_roc, expintgrad_pr = evaluate.interpretability_performance(scores1d_dict[\"expint_scores\"], X_model, threshold)\n",
    "\n",
    "    distr_dict = {\n",
    "            \"mutagenesis_roc\":mutagenesis_roc,\n",
    "            \"mutagenesis_pr\":mutagenesis_pr,\n",
    "            \"saliency_roc\":saliency_roc,\n",
    "            \"saliency_pr\":saliency_pr,\n",
    "            \"smoothgrad_roc\":smoothgrad_roc,\n",
    "            \"smoothgrad_pr\":smoothgrad_pr,\n",
    "            \"intgrad_roc\":intgrad_roc,\n",
    "            \"intgrad_pr\":intgrad_pr,\n",
    "            \"expintgrad_roc\":expintgrad_roc,\n",
    "            \"expintgrad_pr\":expintgrad_pr,\n",
    "            }\n",
    "    return distr_dict, X_model\n",
    "\n",
    "def print_statistics(distr_dict):\n",
    "    print(\"%s: %.3f+/-%.3f\"%('mutagenesis', np.mean(distr_dict[\"mutagenesis_roc\"]), np.std(distr_dict[\"mutagenesis_roc\"])))\n",
    "    print(\"%s: %.3f+/-%.3f\"%('saliency', np.mean(distr_dict[\"saliency_roc\"]), np.std(distr_dict[\"saliency_roc\"])))\n",
    "    print(\"%s: %.3f+/-%.3f\"%('smoothgrad', np.mean(distr_dict[\"smoothgrad_roc\"]), np.std(distr_dict[\"smoothgrad_roc\"])))\n",
    "    print(\"%s: %.3f+/-%.3f\"%('intgrad', np.mean(distr_dict[\"intgrad_roc\"]), np.std(distr_dict[\"intgrad_roc\"])))\n",
    "    print(\"%s: %.3f+/-%.3f\"%('expintgrad', np.mean(distr_dict[\"expintgrad_roc\"]), np.std(distr_dict[\"expintgrad_roc\"])))\n",
    "\n",
    "    print(\"%s: %.3f+/-%.3f\"%('mutagenesis', np.mean(distr_dict[\"mutagenesis_pr\"]), np.std(distr_dict[\"mutagenesis_pr\"])))\n",
    "    print(\"%s: %.3f+/-%.3f\"%('saliency', np.mean(distr_dict[\"saliency_pr\"]), np.std(distr_dict[\"saliency_pr\"])))\n",
    "    print(\"%s: %.3f+/-%.3f\"%('smoothgrad', np.mean(distr_dict[\"smoothgrad_pr\"]), np.std(distr_dict[\"smoothgrad_pr\"])))\n",
    "    print(\"%s: %.3f+/-%.3f\"%('intgrad', np.mean(distr_dict[\"intgrad_pr\"]), np.std(distr_dict[\"intgrad_pr\"])))\n",
    "    print(\"%s: %.3f+/-%.3f\"%('expintgrad', np.mean(distr_dict[\"expintgrad_pr\"]), np.std(distr_dict[\"expintgrad_pr\"])))\n",
    "\n",
    "def dataframe_plot(distr_dict,trial):\n",
    "    df_names = ['mutagenesis_roc','saliency_roc','smoothgrad_roc','intgrad_roc','expintgrad_roc','mutagenesis_pr','saliency_pr','smoothgrad_pr','intgrad_pr','expintgrad_pr']\n",
    "    df_values = [np.mean(distr_dict[\"mutagenesis_roc\"]),np.mean(distr_dict[\"saliency_roc\"]),np.mean(distr_dict[\"smoothgrad_roc\"]),np.mean(distr_dict[\"intgrad_roc\"]),np.mean(distr_dict[\"expintgrad_roc\"]),np.mean(distr_dict[\"mutagenesis_pr\"]),np.mean(distr_dict[\"saliency_pr\"]),np.mean(distr_dict[\"smoothgrad_pr\"]),np.mean(distr_dict[\"intgrad_pr\"]),np.mean(distr_dict[\"expintgrad_pr\"])]\n",
    "    df_std = [np.std(distr_dict[\"mutagenesis_roc\"]),np.std(distr_dict[\"saliency_roc\"]),np.std(distr_dict[\"smoothgrad_roc\"]),np.std(distr_dict[\"intgrad_roc\"]),np.std(distr_dict[\"expintgrad_roc\"]),np.std(distr_dict[\"mutagenesis_pr\"]),np.std(distr_dict[\"saliency_pr\"]),np.std(distr_dict[\"smoothgrad_pr\"]),np.std(distr_dict[\"intgrad_pr\"]),np.std(distr_dict[\"expintgrad_pr\"])]\n",
    "    df = pd.DataFrame(data={'Name':df_names, 'Values':df_values, 'Standard Deviation':df_std})\n",
    "    name = trial + '_df'\n",
    "    df.to_csv(name)\n",
    "    return df"
   ]
  },
  {
   "cell_type": "code",
   "execution_count": null,
   "metadata": {},
   "outputs": [],
   "source": []
  },
  {
   "cell_type": "code",
   "execution_count": null,
   "metadata": {},
   "outputs": [],
   "source": []
  },
  {
   "cell_type": "code",
   "execution_count": null,
   "metadata": {},
   "outputs": [],
   "source": []
  },
  {
   "cell_type": "code",
   "execution_count": null,
   "metadata": {},
   "outputs": [],
   "source": [
    "tf.abs()"
   ]
  },
  {
   "cell_type": "code",
   "execution_count": null,
   "metadata": {},
   "outputs": [],
   "source": [
    "s"
   ]
  },
  {
   "cell_type": "code",
   "execution_count": null,
   "metadata": {},
   "outputs": [],
   "source": [
    "v @ tf.linalg.diag(e)\n",
    "#v @ tf.linalg.diag(e) @ tf.transpose(v)"
   ]
  },
  {
   "cell_type": "code",
   "execution_count": null,
   "metadata": {},
   "outputs": [],
   "source": [
    "_W"
   ]
  },
  {
   "cell_type": "code",
   "execution_count": null,
   "metadata": {},
   "outputs": [],
   "source": []
  }
 ],
 "metadata": {
  "kernelspec": {
   "display_name": "Python 3",
   "language": "python",
   "name": "python3"
  },
  "language_info": {
   "codemirror_mode": {
    "name": "ipython",
    "version": 3
   },
   "file_extension": ".py",
   "mimetype": "text/x-python",
   "name": "python",
   "nbconvert_exporter": "python",
   "pygments_lexer": "ipython3",
   "version": "3.8.5"
  }
 },
 "nbformat": 4,
 "nbformat_minor": 4
}
